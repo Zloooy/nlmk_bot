{
 "cells": [
  {
   "cell_type": "code",
   "execution_count": null,
   "id": "aa75de3d-af61-43c6-abb0-f608ec602d6e",
   "metadata": {},
   "outputs": [
    {
     "name": "stdout",
     "output_type": "stream",
     "text": [
      " * Serving Flask app '__main__'\n",
      " * Debug mode: off\n"
     ]
    },
    {
     "name": "stderr",
     "output_type": "stream",
     "text": [
      "WARNING: This is a development server. Do not use it in a production deployment. Use a production WSGI server instead.\n",
      " * Running on http://45.133.178.134:35474\n",
      "Press CTRL+C to quit\n",
      "185.155.16.157 - - [11/Jun/2024 10:29:10] \"GET /progress/setup_ai_parser HTTP/1.1\" 200 -\n",
      "185.155.16.157 - - [11/Jun/2024 10:29:14] \"GET /progress/setup_ai_parser HTTP/1.1\" 200 -\n",
      "172.56.178.224 - - [12/Jun/2024 13:33:47] code 400, message Bad request version ('\\x19íë\\x16ÏWr.ÃW\\x06:')\n",
      "172.56.178.224 - - [12/Jun/2024 13:33:47] \"\\x16\\x03\\x01\\x06à\\x01\\x00\\x06Ü\\x03\\x03Q\\x94\\x07½ø§Áµ+¥Ûcóýk\\x9f¦\\x07Ùª².ô;bïV,ðæ®* ôà\\x8c\\x8aÒÀCÒ\\x94¾%®Ú\\x8aÅ¸t\\x8aV\\x15ô4«i:\\x81\\x0bóü\\x16++\\x00 ÚÚ\\x13\\x01\\x13\\x02\\x13\\x03À+À/À,À0Ì©Ì¨À\\x13À\\x14\\x00\\x9c\\x00\\x9d\\x00/\\x005\\x01\\x00\\x06s\\x9a\\x9a\\x00\\x00\\x00\\x05\\x00\\x05\\x01\\x00\\x00\\x00\\x00\\x00\\x0b\\x00\\x02\\x01\\x00þ\\x0d\\x00ú\\x00\\x00\\x01\\x00\\x01\\x80\\x00 w_ß\\x01D¾2Â^ª>ÆÜØo\\x84a\\x8b©\\x99 É\\x85<\\x94Ñ\\x00\\x1fT\\x15W\\x1b\\x00Ð\\x1aNvAäèÕÝã½ïÛö¨\\x9co\\\\ºO\\x90\\x0c\\x19\\x84gR2\\x94¶ó\\x07ê(&v) Àc[ê\\x16fÓ\\\\\\x0by&SÏBu\\x94(ºdqÌþíy\\x9f\\x97@\\x94\\x83Åª`²øm¯û ²å\\x04Á\\x96\\x88Kµë\\x80AZLÓ\\x8e1\\x19\\x10\\x87·\\\\í¥{Þ$\\x80\\x189\"Ð\\x82\\x0c\\x16Y\\x8c\\x91]\\x8f7v²nHÇµJª\\x96\\x98sw-ßö'\\x990-Ài³i\\x7f;ÑªLU\\x17gô\\x897M%|N¦\\x94y\\x06§þ\\x95ä\\x84\\x93©]/G­qkª¥ÌD\\x98\\x82ê1 ÆÇº\\x80\\x94Dò'qfzrÜpïû#U\\x89\\x10áYìw¸µ¢Ç_7ÿ\\x01\\x00\\x01\\x00\\x00\\x0d\\x00\\x12\\x00\\x10\\x04\\x03\\x08\\x04\\x04\\x01\\x05\\x03\\x08\\x05\\x05\\x01\\x08\\x06\\x06\\x01\\x00\\x10\\x00\\x0e\\x00\\x0c\\x02h2\\x08http/1.1Di\\x00\\x05\\x00\\x03\\x02h2\\x00#\\x00\\x00\\x00\\x12\\x00\\x00\\x00\\x17\\x00\\x00\\x00-\\x00\\x02\\x01\\x01\\x00+\\x00\\x07\\x06ÊÊ\\x03\\x04\\x03\\x03\\x003\\x04ï\\x04í\\x9a\\x9a\\x00\\x01\\x00c\\x99\\x04Àp\\x97I9c/\\x11õ\\x7f\\x04Én\\x19ïL#a4é¬¢t¦\\x87§Á\\x11\\x09\\x99 Hi¢\\x13\\x1eåH.µ6\\x1a\\x13\\x9a±t\\x8c\\x92\\x8fös_g\\\\{§\\x98²\\x02¿)d\\x08¶zy\\x90\\x14\\x1c®)\\x1d\\x90¡`\\x94e_uÕf\\x01ÛM\\x86ZcôÜ}å\\x93?Â\\x12A;\\x90C~±¨¾C?T÷`fl[<V\\x9be6R&@\\x1dÈe3\\x9eLn\\x1dÂ½ø\\x05\\x0e\\x7f(¬$×[¾ü`P,@Ì\\x80)*\\x09]Xõ\\x0f9ñ!\\x1fU\\x02\\x13S{¾º²\\x06e#\\x8f±³hì\\x11\\x80¦·jyjÌÂ8¼á1oôÆ¶u\\x18éó2×\\x09\\x13.·*'\\x02\\x9as\\x95<ÖÔ{[y¯sø©Ùå1\\x00E\\x08FÉ\\x16³&VÖ[E\\x98±{Ä\\x81Us\\x983Ífº\\x91HF\\x87<\\x0b¢åM{4«I{GtKXùö\\x99È|>!Ä\\x7f\\x027u`Ó°óÈ\\x8eA×\\x97¿ub\\x86¡\\x91]ð\\x88ûé[x2 \\x85\\x86\\x1f\\x03©C\\x91û\\\\´%\\x82í\\x92m\\x10\\x8c¯ÜòÊE\\x19\\x1c>\\x95µZK&qu= ÛqÂ#M\\x1a\\x90¤\\x09©\\x08D\\x90\\x94/8\\x87Mù\\x89^,uck%\\x01êz\\x83ª\\x8aÊJ<v\\x83,¤ZJ|´ÌÍ\\x01Ä! \\x02mÅn\\\\Ñ\\x88ÏYj&\\x81\\x15°\\x04\\x7f.J8\\x88ö\\x96ç2u¢ ª¤¤¢×û\\x1feq60L{cá\\x10o\\x00D0\\x17¢I\\x90\\x16¿c\\x91uÔlýY õY\\x07SØdX{*¡e\\x10\\x09Ú\\x07b\\x99Plè73¡\\x1f\\x82¤Ì·\\x8bV\\x83\\x86@é\\x1c\\x19íë\\x16ÏWr.ÃW\\x06:\" HTTPStatus.BAD_REQUEST -\n",
      "172.56.178.224 - - [12/Jun/2024 13:33:47] code 400, message Bad request version ('iSÈld.lÃ')\n",
      "172.56.178.224 - - [12/Jun/2024 13:33:47] \"\\x16\\x03\\x01\\x06à\\x01\\x00\\x06Ü\\x03\\x03;#T¯Ý\\x90\\x8dê\\x0da³\\x8aEÅ\\x14\\x07®\\x8dÊv`S\\\\\\x17²/ØÄ,»u@ %,ªºïó iSÈld.lÃ\" HTTPStatus.BAD_REQUEST -\n",
      "172.56.178.224 - - [12/Jun/2024 13:33:47] \"GET /progress/setup_ai_parser HTTP/1.1\" 200 -\n",
      "172.56.178.224 - - [12/Jun/2024 13:33:48] \"GET /favicon.ico HTTP/1.1\" 404 -\n"
     ]
    }
   ],
   "source": [
    "from flask import Flask, jsonify\n",
    "import random\n",
    "import time\n",
    "import threading\n",
    "\n",
    "app = Flask(__name__)\n",
    "\n",
    "# Словарь для хранения состояния выполнения для каждого этапа\n",
    "progress = {\n",
    "    'setup_ai_parser': 0,\n",
    "    'setup_ai_ranking': 0,\n",
    "    'setup_ai_summarization': 0,\n",
    "    'site_list': 0,\n",
    "    'news_list': 0,\n",
    "    'ranked_list': 0,\n",
    "    'summary_list': 0,\n",
    "    'digest': 0,\n",
    "    'email': 0,\n",
    "}\n",
    "\n",
    "# Функция, эмулирующая выполнение пайплайна\n",
    "def run_pipeline_step(step):\n",
    "    for i in range(101):\n",
    "        progress[step] = i\n",
    "        time.sleep(random.uniform(0.01, 0.1))  # Эмуляция времени выполнения\n",
    "    progress[step] = 100\n",
    "\n",
    "@app.route('/start/<step>', methods=['GET'])\n",
    "def start_pipeline_step(step):\n",
    "    if step not in progress:\n",
    "        return jsonify({\"error\": \"Invalid step\"}), 400\n",
    "\n",
    "    # Запускаем выполнение в отдельном потоке, чтобы не блокировать основной поток\n",
    "    thread = threading.Thread(target=run_pipeline_step, args=(step,))\n",
    "    thread.start()\n",
    "    \n",
    "    return jsonify({\"status\": \"Started\", \"step\": step}), 200\n",
    "\n",
    "@app.route('/progress/<step>', methods=['GET'])\n",
    "def get_progress(step):\n",
    "    if step not in progress:\n",
    "        return jsonify({\"error\": \"Invalid step\"}), 400\n",
    "    \n",
    "    return jsonify({\"step\": step, \"progress\": progress[step]}), 200\n",
    "\n",
    "if __name__ == '__main__':\n",
    "    app.run(host='45.133.178.134', port=35474)\n"
   ]
  },
  {
   "cell_type": "code",
   "execution_count": null,
   "id": "872e504c-44d7-41d6-a03a-e8521899d040",
   "metadata": {},
   "outputs": [],
   "source": [
    "!pip install flask"
   ]
  }
 ],
 "metadata": {
  "kernelspec": {
   "display_name": "Python 3 (ipykernel)",
   "language": "python",
   "name": "python3"
  },
  "language_info": {
   "codemirror_mode": {
    "name": "ipython",
    "version": 3
   },
   "file_extension": ".py",
   "mimetype": "text/x-python",
   "name": "python",
   "nbconvert_exporter": "python",
   "pygments_lexer": "ipython3",
   "version": "3.10.12"
  }
 },
 "nbformat": 4,
 "nbformat_minor": 5
}
