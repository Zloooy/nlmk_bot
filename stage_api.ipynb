{
 "cells": [
  {
   "cell_type": "code",
   "execution_count": null,
   "id": "aa75de3d-af61-43c6-abb0-f608ec602d6e",
   "metadata": {},
   "outputs": [
    {
     "name": "stdout",
     "output_type": "stream",
     "text": [
      " * Serving Flask app '__main__'\n",
      " * Debug mode: off\n"
     ]
    },
    {
     "name": "stderr",
     "output_type": "stream",
     "text": [
      "WARNING: This is a development server. Do not use it in a production deployment. Use a production WSGI server instead.\n",
      " * Running on http://45.133.178.134:35474\n",
      "Press CTRL+C to quit\n",
      "185.155.16.157 - - [13/Jun/2024 15:38:32] \"GET /run_rss?token=your_secret_token HTTP/1.1\" 200 -\n",
      "185.155.16.157 - - [13/Jun/2024 15:38:39] \"GET /progress/run_rss?token=your_secret_token HTTP/1.1\" 200 -\n",
      "185.155.16.157 - - [13/Jun/2024 15:38:40] \"GET /progress/run_rss?token=your_secret_token HTTP/1.1\" 200 -\n",
      "185.155.16.157 - - [13/Jun/2024 17:07:11] \"GET /progress/run_rss?token=your_secret_token HTTP/1.1\" 200 -\n",
      "185.155.16.157 - - [13/Jun/2024 17:07:16] \"GET /progress/run_scrape?token=your_secret_token HTTP/1.1\" 200 -\n",
      "185.155.16.157 - - [13/Jun/2024 17:07:39] \"GET /progress/run_scrape?token=your_secret_token HTTP/1.1\" 200 -\n",
      "185.155.16.157 - - [13/Jun/2024 17:07:46] \"GET /progress/run_rss?token=your_secret_token HTTP/1.1\" 200 -\n",
      "185.155.16.157 - - [13/Jun/2024 17:08:16] \"GET /progress/run_scrape?token=your_secret_token HTTP/1.1\" 200 -\n",
      "185.155.16.157 - - [13/Jun/2024 17:08:19] \"GET /progress/run_scrape?token=your_secret_token HTTP/1.1\" 200 -\n",
      "185.155.16.157 - - [13/Jun/2024 17:08:22] \"GET /progress/run_scrape?token=your_secret_token HTTP/1.1\" 200 -\n"
     ]
    }
   ],
   "source": [
    "from flask import Flask, jsonify, request\n",
    "import threading\n",
    "import nbformat\n",
    "from nbconvert.preprocessors import ExecutePreprocessor\n",
    "import os\n",
    "\n",
    "app = Flask(__name__)\n",
    "\n",
    "# Словарь для хранения состояния выполнения для каждого этапа\n",
    "progress = {\n",
    "    'run_rss': 0,\n",
    "    'run_scrape': 0,\n",
    "}\n",
    "\n",
    "# Функция для выполнения Jupyter notebook\n",
    "def execute_notebook(notebook_path, progress_key):\n",
    "    progress[progress_key] = 0\n",
    "    try:\n",
    "        with open(notebook_path) as f:\n",
    "            nb = nbformat.read(f, as_version=4)\n",
    "        ep = ExecutePreprocessor(timeout=600, kernel_name='python3')\n",
    "        ep.preprocess(nb, {'metadata': {'path': './'}})\n",
    "        progress[progress_key] = 100\n",
    "    except Exception as e:\n",
    "        progress[progress_key] = -1\n",
    "        print(f\"Failed to execute notebook {notebook_path}: {e}\")\n",
    "\n",
    "@app.route('/run_rss', methods=['GET'])\n",
    "def run_rss():\n",
    "    token = request.args.get('token')\n",
    "    if token != 'your_secret_token':\n",
    "        return jsonify({\"error\": \"Invalid token\"}), 403\n",
    "\n",
    "    notebook_path = 'rss.ipynb'  # Укажите путь к вашему ноутбуку\n",
    "    if not os.path.exists(notebook_path):\n",
    "        return jsonify({\"error\": \"Notebook not found\"}), 400\n",
    "\n",
    "    # Запускаем выполнение ноутбука в отдельном потоке, чтобы не блокировать основной поток\n",
    "    thread = threading.Thread(target=execute_notebook, args=(notebook_path, 'run_rss'))\n",
    "    thread.start()\n",
    "    \n",
    "    return jsonify({\n",
    "        \"status\": \"RSS notebook execution started\",\n",
    "        \"notebook\": notebook_path,\n",
    "        \"message\": \"Please check results: https://docs.google.com/spreadsheets/d/1BA1nioQqc048FFvKXcpP5VqL_73kXNCcSx0m-jhI2MQ/edit?gid=2038294867#gid=2038294867\"\n",
    "    }), 200\n",
    "\n",
    "@app.route('/run_scrape', methods=['GET'])\n",
    "def run_scrape():\n",
    "    token = request.args.get('token')\n",
    "    if token != 'your_secret_token':\n",
    "        return jsonify({\"error\": \"Invalid token\"}), 403\n",
    "\n",
    "    notebook_path = 'scrape.ipynb'  # Укажите путь к вашему ноутбуку\n",
    "    if not os.path.exists(notebook_path):\n",
    "        return jsonify({\"error\": \"Notebook not found\"}), 400\n",
    "\n",
    "    # Запускаем выполнение ноутбука в отдельном потоке, чтобы не блокировать основной поток\n",
    "    thread = threading.Thread(target=execute_notebook, args=(notebook_path, 'run_scrape'))\n",
    "    thread.start()\n",
    "    \n",
    "    return jsonify({\n",
    "        \"status\": \"Scrape notebook execution started\",\n",
    "        \"notebook\": notebook_path,\n",
    "        \"message\": \"Please check results: https://docs.google.com/spreadsheets/d/1BA1nioQqc048FFvKXcpP5VqL_73kXNCcSx0m-jhI2MQ/edit?gid=2038294867#gid=2038294867\"\n",
    "    }), 200\n",
    "\n",
    "@app.route('/progress/run_rss', methods=['GET'])\n",
    "def get_rss_progress():\n",
    "    token = request.args.get('token')\n",
    "    if token != 'your_secret_token':\n",
    "        return jsonify({\"error\": \"Invalid token\"}), 403\n",
    "\n",
    "    return jsonify({\"step\": \"run_rss\", \"progress\": progress['run_rss']}), 200\n",
    "\n",
    "@app.route('/progress/run_scrape', methods=['GET'])\n",
    "def get_scrape_progress():\n",
    "    token = request.args.get('token')\n",
    "    if token != 'your_secret_token':\n",
    "        return jsonify({\"error\": \"Invalid token\"}), 403\n",
    "\n",
    "    return jsonify({\"step\": \"run_scrape\", \"progress\": progress['run_scrape']}), 200\n",
    "\n",
    "if __name__ == '__main__':\n",
    "    app.run(host='45.133.178.134', port=35474)\n"
   ]
  },
  {
   "cell_type": "code",
   "execution_count": null,
   "id": "5a695ce5-5f51-417e-beb7-cc58ecebda1f",
   "metadata": {},
   "outputs": [],
   "source": [
    "execute_notebook('rss.ipynb')"
   ]
  },
  {
   "cell_type": "code",
   "execution_count": null,
   "id": "ad1d80b9-56c6-4d31-bcdf-409556f60bbe",
   "metadata": {},
   "outputs": [],
   "source": [
    "%run rss.ipynb"
   ]
  }
 ],
 "metadata": {
  "kernelspec": {
   "display_name": "Python 3 (ipykernel)",
   "language": "python",
   "name": "python3"
  },
  "language_info": {
   "codemirror_mode": {
    "name": "ipython",
    "version": 3
   },
   "file_extension": ".py",
   "mimetype": "text/x-python",
   "name": "python",
   "nbconvert_exporter": "python",
   "pygments_lexer": "ipython3",
   "version": "3.10.12"
  }
 },
 "nbformat": 4,
 "nbformat_minor": 5
}
