{
 "cells": [
  {
   "cell_type": "markdown",
   "id": "aed42c56",
   "metadata": {
    "toc": true
   },
   "source": [
    "<h1>Table of Contents<span class=\"tocSkip\"></span></h1>\n",
    "<div class=\"toc\"><ul class=\"toc-item\"><li><span><a href=\"#Extraction\" data-toc-modified-id=\"Extraction-1\"><span class=\"toc-item-num\">1&nbsp;&nbsp;</span>Extraction</a></span></li><li><span><a href=\"#Loading\" data-toc-modified-id=\"Loading-2\"><span class=\"toc-item-num\">2&nbsp;&nbsp;</span>Loading</a></span></li><li><span><a href=\"#Splitting\" data-toc-modified-id=\"Splitting-3\"><span class=\"toc-item-num\">3&nbsp;&nbsp;</span>Splitting</a></span></li><li><span><a href=\"#Storing\" data-toc-modified-id=\"Storing-4\"><span class=\"toc-item-num\">4&nbsp;&nbsp;</span>Storing</a></span></li><li><span><a href=\"#Retrieval\" data-toc-modified-id=\"Retrieval-5\"><span class=\"toc-item-num\">5&nbsp;&nbsp;</span>Retrieval</a></span></li><li><span><a href=\"#Question-Answering\" data-toc-modified-id=\"Question-Answering-6\"><span class=\"toc-item-num\">6&nbsp;&nbsp;</span>Question Answering</a></span></li></ul></div>"
   ]
  },
  {
   "cell_type": "code",
   "execution_count": 1,
   "id": "154c5a18",
   "metadata": {},
   "outputs": [],
   "source": [
    "# !pip install langchain openai chromadb python-dotenv"
   ]
  },
  {
   "cell_type": "code",
   "execution_count": 2,
   "id": "9aee5b21",
   "metadata": {},
   "outputs": [],
   "source": [
    "# Set env var OPENAI_API_KEY or load from a .env file\n",
    "#import dotenv\n",
    "#dotenv.load_dotenv()"
   ]
  },
  {
   "cell_type": "code",
   "execution_count": 3,
   "id": "b39a367d-acbf-45ee-b226-f34127a1040c",
   "metadata": {},
   "outputs": [],
   "source": [
    "# main.py\n",
    "import json\n",
    "import os\n",
    "import telebot\n",
    "\n",
    "# Загрузка конфигурации из JSON-файла\n",
    "with open('config.json') as config_file:\n",
    "    config = json.load(config_file)\n",
    "\n",
    "# Установка переменных окружения\n",
    "os.environ[\"LANGCHAIN_API_KEY\"] = config[\"LANGCHAIN_API_KEY\"]\n",
    "os.environ[\"OPENAI_API_KEY\"] = config[\"OPENAI_API_KEY\"]\n",
    "os.environ[\"LANGCHAIN_TRACING_V2\"] = \"true\"\n",
    "os.environ[\"LANGCHAIN_ENDPOINT\"]=\"https://api.smith.langchain.com\"\n",
    "os.environ[\"LANGCHAIN_PROJECT\"]=\"nlmk_bot\""
   ]
  },
  {
   "cell_type": "markdown",
   "id": "30d79f51",
   "metadata": {},
   "source": [
    "# Extraction"
   ]
  },
  {
   "cell_type": "code",
   "execution_count": 4,
   "id": "61c58f4a",
   "metadata": {},
   "outputs": [],
   "source": [
    "from extract_urls import get_hyperlinks\n",
    "from pprint import pprint"
   ]
  },
  {
   "cell_type": "code",
   "execution_count": 5,
   "id": "e3734865-3074-49d6-81f1-6d0ce79e37dc",
   "metadata": {},
   "outputs": [
    {
     "name": "stdout",
     "output_type": "stream",
     "text": [
      "['https://evrazsteel.ru/publication/news/cifrovye-dvoyniki-gorodov', 'https://evrazsteel.ru/publication/news/informacionnaya-model-obekta-kapitalnogo-stroitelstva', 'https://evrazsteel.ru/publication/news/itogi-steel2real-2024', 'https://evrazsteel.ru/publication/news/evraz-steel-building-otgruzil-5000-t-metallokonstrukcij-v-aprele', 'https://evrazsteel.ru/publication/news/pravovoy-fundament-dlya-vechnoy-merzloty', 'https://evrazsteel.ru/publication/news/parking-na-metallokarkase-evraza-v-stone-savyolovskaya', 'https://evrazsteel.ru/publication/news/mnogourovnevyy-parking-v-krasnoyarske-szmk', 'https://evrazsteel.ru/publication/news/parking-gk-ferro-stroy-v-aeroportu-vnukovo', 'https://evrazsteel.ru/publication/news/edinaya-metodika-ocenki-primeneniya-ii-v-stroitelstve']\n"
     ]
    }
   ],
   "source": [
    "import requests\n",
    "from bs4 import BeautifulSoup\n",
    "\n",
    "def get_href_list():\n",
    "    url = \"https://evrazsteel.ru/publication/news/\"\n",
    "    \n",
    "    response = requests.get(url)\n",
    "    response.raise_for_status()  # Проверяем, успешен ли запрос\n",
    "    \n",
    "    soup = BeautifulSoup(response.text, 'html.parser')\n",
    "    a_tags = soup.find_all('a', class_='card__title')\n",
    "    href_list = ['https://evrazsteel.ru' + a['href'] for a in a_tags if a.has_attr('href')]\n",
    "    \n",
    "    return href_list\n",
    "\n",
    "# Пример использования:\n",
    "urls = get_href_list()\n",
    "print(urls)\n"
   ]
  },
  {
   "cell_type": "markdown",
   "id": "46e4590c",
   "metadata": {},
   "source": [
    "# Loading"
   ]
  },
  {
   "cell_type": "code",
   "execution_count": 6,
   "id": "250d6b33",
   "metadata": {},
   "outputs": [
    {
     "name": "stdout",
     "output_type": "stream",
     "text": [
      "Name: aiohttp\n",
      "Version: 3.9.5\n",
      "Summary: Async http client/server framework (asyncio)\n",
      "Home-page: https://github.com/aio-libs/aiohttp\n",
      "Author: \n",
      "Author-email: \n",
      "License: Apache 2\n",
      "Location: /home/fedor/miniconda3/envs/jupyterlab/lib/python3.10/site-packages\n",
      "Requires: aiosignal, async-timeout, attrs, frozenlist, multidict, yarl\n",
      "Required-by: langchain, langchain-community\n"
     ]
    }
   ],
   "source": [
    "!pip show aiohttp"
   ]
  },
  {
   "cell_type": "code",
   "execution_count": 7,
   "id": "b9c9dab6",
   "metadata": {},
   "outputs": [],
   "source": [
    "from langchain.document_loaders import WebBaseLoader"
   ]
  },
  {
   "cell_type": "code",
   "execution_count": 8,
   "id": "bac97480",
   "metadata": {},
   "outputs": [
    {
     "name": "stdout",
     "output_type": "stream",
     "text": [
      "CPU times: user 0 ns, sys: 1.85 ms, total: 1.85 ms\n",
      "Wall time: 1.52 ms\n"
     ]
    }
   ],
   "source": [
    "%%time\n",
    "loader = WebBaseLoader(urls)"
   ]
  },
  {
   "cell_type": "code",
   "execution_count": 9,
   "id": "b52febb8",
   "metadata": {},
   "outputs": [],
   "source": [
    "data = loader.load()"
   ]
  },
  {
   "cell_type": "code",
   "execution_count": 10,
   "id": "4927cc0f",
   "metadata": {},
   "outputs": [],
   "source": [
    "#print(data[0].page_content)"
   ]
  },
  {
   "cell_type": "markdown",
   "id": "9aad45ae",
   "metadata": {},
   "source": [
    "# Splitting"
   ]
  },
  {
   "cell_type": "code",
   "execution_count": 11,
   "id": "5bbbf01d",
   "metadata": {},
   "outputs": [],
   "source": [
    "from langchain.text_splitter import RecursiveCharacterTextSplitter"
   ]
  },
  {
   "cell_type": "code",
   "execution_count": 12,
   "id": "5997d30b",
   "metadata": {},
   "outputs": [],
   "source": [
    "text_splitter = RecursiveCharacterTextSplitter(chunk_size = 1000, chunk_overlap = 100)"
   ]
  },
  {
   "cell_type": "code",
   "execution_count": 13,
   "id": "9e3c47ac",
   "metadata": {},
   "outputs": [],
   "source": [
    "all_splits = text_splitter.split_documents(data)"
   ]
  },
  {
   "cell_type": "code",
   "execution_count": 14,
   "id": "f7f7c933",
   "metadata": {},
   "outputs": [
    {
     "data": {
      "text/plain": [
       "56"
      ]
     },
     "execution_count": 14,
     "metadata": {},
     "output_type": "execute_result"
    }
   ],
   "source": [
    "len(all_splits)"
   ]
  },
  {
   "cell_type": "code",
   "execution_count": 15,
   "id": "003f0354",
   "metadata": {
    "scrolled": true
   },
   "outputs": [
    {
     "name": "stdout",
     "output_type": "stream",
     "text": [
      "Итоги конкурса Steel2Real 2024 года\n",
      "\n",
      "\n",
      "\n",
      "\n",
      "\n",
      "\n",
      "\n",
      "\n",
      "\n",
      "\n",
      "\n",
      "\n",
      "\n",
      "EVRAZ\n",
      "STEEL\n",
      "\n",
      "\n",
      "Об экосистеме\n",
      " \n",
      "\n",
      "\n",
      "\n",
      "\n",
      "\n",
      "Войти\n",
      "\n",
      "\n",
      "\n",
      "\n",
      "\n",
      "\n",
      "\n",
      "\n",
      "\n",
      "\n",
      "\n",
      "\n",
      "\n",
      "\n",
      "\n",
      "\n",
      "\n",
      "EVRAZ\n",
      "STEEL\n",
      "\n",
      "\n",
      "\n",
      "\n",
      "\n",
      "\n",
      "\n",
      "\n",
      "\n",
      "Главная\n",
      "\n",
      "        В курсе\n",
      "        \n",
      "\n",
      "\n",
      "\n",
      "\n",
      "        События\n",
      "        \n",
      "\n",
      "\n",
      "\n",
      "\n",
      "        Медиатека\n",
      "        \n",
      "\n",
      "\n",
      "\n",
      "О портале\n",
      "Об экосистеме\n",
      "\n",
      "\n",
      "\n",
      "Корпоративный сайт\n",
      "\n",
      "\n",
      "\n",
      "Сервис подбора проката\n",
      "\n",
      "\n",
      "\n",
      "ЕВРАЗ Маркет\n",
      "\n",
      "\n",
      "\n",
      "\n",
      "\n",
      "\n",
      "Связаться с нами\n",
      "\n",
      "\n",
      "\n",
      "\n",
      "\n",
      "\n",
      "\n",
      "\n",
      "\n",
      "\n",
      "\n",
      "\n",
      "\n",
      "\n",
      "\n",
      "\n",
      "\n",
      "\n",
      "\n",
      "\n",
      "\n",
      "\n",
      "\n",
      "\n",
      "\n",
      "\n",
      "\n",
      "\n",
      " \n",
      "\n",
      "\n",
      "\n",
      "Новости\n",
      "Аналитика\n",
      "Тренды\n",
      "Технологии\n",
      "Истории успеха\n",
      "\n",
      "\n",
      "Было\n",
      "Будет\n",
      "\n",
      "\n",
      "Фото\n",
      "Видео\n",
      "\n",
      "\n",
      "\n",
      "\n",
      "\n",
      "\n",
      "\n",
      "\n",
      "\n",
      "\n",
      "ENTER для поиска\n",
      "\n",
      "\n",
      "\n",
      "\n",
      "\n",
      "\n",
      "\n",
      " Закрыть \n",
      "\n",
      "\n",
      "\n",
      "\n",
      "\n",
      "\n",
      "\n",
      "\n",
      "\n",
      "\n",
      "Войти\n",
      "\n",
      "\n",
      "\n",
      "\n",
      "Подписаться на новости\n",
      "\n",
      "\n",
      "\n",
      "\n",
      "Фото\n",
      "\n",
      "\n",
      "\n",
      "\n",
      "Видео\n",
      "\n",
      "\n",
      "\n",
      "\n",
      "Телеграмм\n",
      "\n",
      "\n",
      "\n",
      "\n",
      "\n",
      "Главная\n",
      "\n",
      "В курсе\n",
      "\n",
      "Новости\n",
      "\n",
      "\n",
      "\n",
      "EVRAZ\n",
      "STEEL\n",
      "\n",
      "\n",
      "\n",
      "\n",
      "\n",
      "\n",
      "\n",
      "Названы лучшие студенческие строительные проекты \n",
      "Названы лучшие студенческие строительные проекты\n",
      "\n",
      "04 ИЮНЯ 2024\n",
      "строительство\n",
      "проектирование\n",
      "\n",
      "\n",
      "\n",
      "\n",
      "\n",
      "\n",
      "\n",
      "Фото: АРСС\n"
     ]
    }
   ],
   "source": [
    "print(all_splits[10].page_content)"
   ]
  },
  {
   "cell_type": "markdown",
   "id": "426f6e9d",
   "metadata": {},
   "source": [
    "# Storing "
   ]
  },
  {
   "cell_type": "code",
   "execution_count": 16,
   "id": "7bad6896",
   "metadata": {},
   "outputs": [],
   "source": [
    "from langchain.embeddings import OpenAIEmbeddings\n",
    "from langchain.vectorstores import Chroma\n",
    "import os\n"
   ]
  },
  {
   "cell_type": "code",
   "execution_count": 17,
   "id": "f8579aaf",
   "metadata": {},
   "outputs": [
    {
     "name": "stdout",
     "output_type": "stream",
     "text": [
      "Директория langchain_embeddings успешно удалена\n"
     ]
    }
   ],
   "source": [
    "import shutil\n",
    "\n",
    "# Путь к директории, которую вы хотите удалить\n",
    "directory_path = 'langchain_embeddings'\n",
    "\n",
    "# Удаление директории и всех поддиректорий\n",
    "try:\n",
    "    shutil.rmtree(directory_path)\n",
    "    print(f\"Директория {directory_path} успешно удалена\")\n",
    "except Exception as e:\n",
    "    print(f\"Ошибка при удалении директории {directory_path}: {e}\")\n"
   ]
  },
  {
   "cell_type": "code",
   "execution_count": 20,
   "id": "20a80385",
   "metadata": {},
   "outputs": [],
   "source": [
    "vectorstore = Chroma.from_documents(documents=all_splits, \n",
    "                                    embedding=OpenAIEmbeddings(), \n",
    "                                    persist_directory='langchain_embeddings')"
   ]
  },
  {
   "cell_type": "code",
   "execution_count": 21,
   "id": "6075524d",
   "metadata": {},
   "outputs": [
    {
     "data": {
      "text/plain": [
       "56"
      ]
     },
     "execution_count": 21,
     "metadata": {},
     "output_type": "execute_result"
    }
   ],
   "source": [
    "vectorstore._collection.count()"
   ]
  },
  {
   "cell_type": "markdown",
   "id": "816fd210",
   "metadata": {},
   "source": [
    "# Retrieval"
   ]
  },
  {
   "cell_type": "code",
   "execution_count": 22,
   "id": "76ceb7a2",
   "metadata": {},
   "outputs": [],
   "source": [
    "from langchain.chat_models import ChatOpenAI"
   ]
  },
  {
   "cell_type": "code",
   "execution_count": 23,
   "id": "3c3e4846",
   "metadata": {},
   "outputs": [
    {
     "name": "stderr",
     "output_type": "stream",
     "text": [
      "/home/fedor/miniconda3/envs/jupyterlab/lib/python3.10/site-packages/langchain_core/_api/deprecation.py:119: LangChainDeprecationWarning: The class `ChatOpenAI` was deprecated in LangChain 0.0.10 and will be removed in 0.3.0. An updated version of the class exists in the langchain-openai package and should be used instead. To use it run `pip install -U langchain-openai` and import as `from langchain_openai import ChatOpenAI`.\n",
      "  warn_deprecated(\n"
     ]
    }
   ],
   "source": [
    "#llm = ChatOpenAI(model_name=\"gpt-3.5-turbo\", temperature=0)\n",
    "#llm = ChatOpenAI(model_name=\"gpt-4-turbo-preview\", temperature=0)\n",
    "llm = ChatOpenAI(model_name=\"gpt-4o\", temperature=0)"
   ]
  },
  {
   "cell_type": "code",
   "execution_count": 24,
   "id": "2f5ff51d",
   "metadata": {},
   "outputs": [],
   "source": [
    "from langchain.chains import RetrievalQA"
   ]
  },
  {
   "cell_type": "code",
   "execution_count": 25,
   "id": "514ff572",
   "metadata": {},
   "outputs": [],
   "source": [
    "qa_chain = RetrievalQA.from_chain_type(llm,\n",
    "                                       retriever=vectorstore.as_retriever(search_kwargs={'k':10}),\n",
    "                                       return_source_documents=True,\n",
    "                                       )"
   ]
  },
  {
   "cell_type": "markdown",
   "id": "72389d83",
   "metadata": {},
   "source": [
    "# Question Answering"
   ]
  },
  {
   "cell_type": "code",
   "execution_count": 26,
   "id": "da431a0f",
   "metadata": {},
   "outputs": [],
   "source": [
    "question = \"что нового в евразе?\""
   ]
  },
  {
   "cell_type": "code",
   "execution_count": 27,
   "id": "862ca825",
   "metadata": {},
   "outputs": [
    {
     "name": "stderr",
     "output_type": "stream",
     "text": [
      "/home/fedor/miniconda3/envs/jupyterlab/lib/python3.10/site-packages/langchain_core/_api/deprecation.py:119: LangChainDeprecationWarning: The method `Chain.__call__` was deprecated in langchain 0.1.0 and will be removed in 0.2.0. Use invoke instead.\n",
      "  warn_deprecated(\n"
     ]
    }
   ],
   "source": [
    "result = qa_chain({\"query\": question})"
   ]
  },
  {
   "cell_type": "code",
   "execution_count": 28,
   "id": "641b48ec",
   "metadata": {},
   "outputs": [
    {
     "name": "stdout",
     "output_type": "stream",
     "text": [
      "Вот несколько последних новостей от ЕВРАЗа:\n",
      "\n",
      "1. **15 января 2024** - Мосгосстройнадзор выдал заключение о соответствии на многоуровневый паркинг на территории жилого квартала «Перовское 2».\n",
      "\n",
      "2. **28 ноября 2023** - ЕВРАЗ поставит металлоконструкции для строительства учебно-выставочного комплекса аграрного университета им. Тимирязева в Москве.\n",
      "\n",
      "3. **04 октября 2023** - Новый многоуровневый паркинг на металлокаркасе ЕВРАЗа построят в жилом квартале «Восточное Бутово» в посёлке Боброво Московской области.\n",
      "\n",
      "4. **20 сентября 2023** - Новый надземный пешеходный переход на металлокаркасе ЕВРАЗа построили в Реутове.\n",
      "\n",
      "5. **18 августа 2023** - Крупный сервисный металлоцентр (СМЦ) ЕВРАЗ Маркет открылся в Нижнем Тагиле.\n",
      "\n",
      "Эти новости отражают текущие проекты и достижения компании.\n"
     ]
    }
   ],
   "source": [
    "print(result['result'])"
   ]
  },
  {
   "cell_type": "code",
   "execution_count": null,
   "id": "aea3a0e7",
   "metadata": {},
   "outputs": [],
   "source": [
    "import telebot\n",
    "import time\n",
    "\n",
    "bot = telebot.TeleBot(config[\"TELEGRAM_BOT_TOKEN\"])\n",
    "\n",
    "\n",
    "@bot.message_handler(content_types=['text'])\n",
    "def handle_message(message):\n",
    "    # Проверка на упоминание бота в сообщении\n",
    "    if '@didgest_nlmk_bot' in message.text:\n",
    "        \n",
    "        question = message.text.replace('@didgest_nlmk_bot', '').strip()  # Удаляем упоминание бота из текста вопроса\n",
    "        bot.send_message(message.chat.id, 'Надо подумать...')\n",
    "        result = qa_chain({\"query\": question + \" Не отвечай на вопросы не связанные с дайджестом новостей. Проси задать тебе вопросы только по дайцджесту новостей.\"})\n",
    "        bot.send_message(message.chat.id, result['result'])\n",
    "\n",
    "while True:\n",
    "    try:\n",
    "        bot.polling(none_stop=True)\n",
    "    except:\n",
    "        print('Error occurred, retrying...')\n",
    "        time.sleep(60)\n"
   ]
  }
 ],
 "metadata": {
  "kernelspec": {
   "display_name": "Python 3 (ipykernel)",
   "language": "python",
   "name": "python3"
  },
  "language_info": {
   "codemirror_mode": {
    "name": "ipython",
    "version": 3
   },
   "file_extension": ".py",
   "mimetype": "text/x-python",
   "name": "python",
   "nbconvert_exporter": "python",
   "pygments_lexer": "ipython3",
   "version": "3.10.12"
  },
  "toc": {
   "base_numbering": 1,
   "nav_menu": {
    "height": "11.3333px",
    "width": "165.99px"
   },
   "number_sections": true,
   "sideBar": true,
   "skip_h1_title": false,
   "title_cell": "Table of Contents",
   "title_sidebar": "Contents",
   "toc_cell": true,
   "toc_position": {},
   "toc_section_display": true,
   "toc_window_display": false
  }
 },
 "nbformat": 4,
 "nbformat_minor": 5
}
